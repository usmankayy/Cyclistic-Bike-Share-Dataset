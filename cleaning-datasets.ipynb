{
 "cells": [
  {
   "cell_type": "code",
   "execution_count": 1,
   "id": "ac3615e7-7d88-42fd-83cc-d2ef003cf9e0",
   "metadata": {},
   "outputs": [
    {
     "name": "stdout",
     "output_type": "stream",
     "text": [
      "Library imported successfully.\n"
     ]
    }
   ],
   "source": [
    "import pandas as pd\n",
    "\n",
    "print(\"Library imported successfully.\")"
   ]
  },
  {
   "cell_type": "code",
   "execution_count": 2,
   "id": "5aceef03-b871-40da-92ca-ee675fa9664a",
   "metadata": {},
   "outputs": [
    {
     "name": "stdout",
     "output_type": "stream",
     "text": [
      "CSV file imported successfully\n"
     ]
    }
   ],
   "source": [
    "jul_2021 = pd.read_csv(\"/Users/aftabkhan/Desktop/Cyclistic Trip Data/for Python/July 2021 Trip Data.csv\")\n",
    "\n",
    "print(\"CSV file imported successfully\")"
   ]
  },
  {
   "cell_type": "code",
   "execution_count": 3,
   "id": "e11c1bc1-77ac-4e46-a5b3-0d916cba193f",
   "metadata": {},
   "outputs": [
    {
     "data": {
      "text/plain": [
       "ride_id                   0\n",
       "rideable_type             0\n",
       "started_at                0\n",
       "ended_at                  0\n",
       "start_station_name    87263\n",
       "start_station_id      87262\n",
       "end_station_name      93158\n",
       "end_station_id        93158\n",
       "start_lat                 0\n",
       "start_lng                 0\n",
       "end_lat                 731\n",
       "end_lng                 731\n",
       "member_casual             0\n",
       "dtype: int64"
      ]
     },
     "execution_count": 3,
     "metadata": {},
     "output_type": "execute_result"
    }
   ],
   "source": [
    "jul_2021.isnull().sum()"
   ]
  },
  {
   "cell_type": "code",
   "execution_count": 4,
   "id": "1b48fb2e-6a34-46e3-998b-129970e03552",
   "metadata": {},
   "outputs": [
    {
     "name": "stdout",
     "output_type": "stream",
     "text": [
      "Null values removed successfully.\n"
     ]
    },
    {
     "data": {
      "text/plain": [
       "ride_id               0\n",
       "rideable_type         0\n",
       "started_at            0\n",
       "ended_at              0\n",
       "start_station_name    0\n",
       "start_station_id      0\n",
       "end_station_name      0\n",
       "end_station_id        0\n",
       "start_lat             0\n",
       "start_lng             0\n",
       "end_lat               0\n",
       "end_lng               0\n",
       "member_casual         0\n",
       "dtype: int64"
      ]
     },
     "execution_count": 4,
     "metadata": {},
     "output_type": "execute_result"
    }
   ],
   "source": [
    "jul_2021 = jul_2021.dropna(how='any',axis=0)\n",
    "\n",
    "print(\"Null values removed successfully.\")\n",
    "\n",
    "jul_2021.isnull().sum()"
   ]
  },
  {
   "cell_type": "code",
   "execution_count": 5,
   "id": "5de948c2-f7e1-46b6-bce8-92bda59d64cd",
   "metadata": {},
   "outputs": [
    {
     "data": {
      "text/plain": [
       "False"
      ]
     },
     "execution_count": 5,
     "metadata": {},
     "output_type": "execute_result"
    }
   ],
   "source": [
    "jul_2021.duplicated().any()"
   ]
  },
  {
   "cell_type": "code",
   "execution_count": 6,
   "id": "da1ec4ce-ecfa-45e2-9f70-365bc57ff826",
   "metadata": {},
   "outputs": [
    {
     "name": "stdout",
     "output_type": "stream",
     "text": [
      "Cleaned CSV file exported as XLSX file successfully.\n"
     ]
    }
   ],
   "source": [
    "jul_2021.to_excel('jul_2021.xlsx', index=False)\n",
    "print(\"Cleaned CSV file exported as XLSX file successfully.\")"
   ]
  },
  {
   "cell_type": "code",
   "execution_count": 7,
   "id": "9df84677-86e1-4598-85ce-5e9c13f6524d",
   "metadata": {},
   "outputs": [
    {
     "data": {
      "text/plain": [
       "ride_id               0\n",
       "rideable_type         0\n",
       "started_at            0\n",
       "ended_at              0\n",
       "start_station_name    0\n",
       "start_station_id      0\n",
       "end_station_name      0\n",
       "end_station_id        0\n",
       "start_lat             0\n",
       "start_lng             0\n",
       "end_lat               0\n",
       "end_lng               0\n",
       "member_casual         0\n",
       "dtype: int64"
      ]
     },
     "execution_count": 7,
     "metadata": {},
     "output_type": "execute_result"
    }
   ],
   "source": [
    "aug_2021 = pd.read_csv(\"/Users/aftabkhan/Desktop/Cyclistic Trip Data/for Python/August 2021 Trip Data.csv\")\n",
    "aug_2021 = aug_2021.dropna(how='any',axis=0)\n",
    "aug_2021.isnull().sum()"
   ]
  },
  {
   "cell_type": "code",
   "execution_count": 8,
   "id": "6f84908f-c184-412f-9bef-361ea2443f7c",
   "metadata": {},
   "outputs": [],
   "source": [
    "aug_2021.to_excel('aug_2021.xlsx', index=False)"
   ]
  },
  {
   "cell_type": "code",
   "execution_count": 9,
   "id": "a84d839d-c641-461a-962f-97b7ed9caf86",
   "metadata": {},
   "outputs": [
    {
     "data": {
      "text/plain": [
       "ride_id               0\n",
       "rideable_type         0\n",
       "started_at            0\n",
       "ended_at              0\n",
       "start_station_name    0\n",
       "start_station_id      0\n",
       "end_station_name      0\n",
       "end_station_id        0\n",
       "start_lat             0\n",
       "start_lng             0\n",
       "end_lat               0\n",
       "end_lng               0\n",
       "member_casual         0\n",
       "dtype: int64"
      ]
     },
     "execution_count": 9,
     "metadata": {},
     "output_type": "execute_result"
    }
   ],
   "source": [
    "sep_2021 = pd.read_csv(\"/Users/aftabkhan/Desktop/Cyclistic Trip Data/for Python/September 2021 Trip Data.csv\")\n",
    "sep_2021 = sep_2021.dropna(how='any',axis=0)\n",
    "sep_2021.isnull().sum()"
   ]
  },
  {
   "cell_type": "code",
   "execution_count": 10,
   "id": "c77a280a-547b-4091-85bb-cc1fab6b68b9",
   "metadata": {},
   "outputs": [],
   "source": [
    "sep_2021.to_excel('sep_2021.xlsx', index=False)"
   ]
  },
  {
   "cell_type": "code",
   "execution_count": 11,
   "id": "d39a57a2-dad1-425b-b3c9-0055525379ed",
   "metadata": {},
   "outputs": [
    {
     "data": {
      "text/plain": [
       "ride_id               0\n",
       "rideable_type         0\n",
       "started_at            0\n",
       "ended_at              0\n",
       "start_station_name    0\n",
       "start_station_id      0\n",
       "end_station_name      0\n",
       "end_station_id        0\n",
       "start_lat             0\n",
       "start_lng             0\n",
       "end_lat               0\n",
       "end_lng               0\n",
       "member_casual         0\n",
       "dtype: int64"
      ]
     },
     "execution_count": 11,
     "metadata": {},
     "output_type": "execute_result"
    }
   ],
   "source": [
    "oct_2021 = pd.read_csv(\"/Users/aftabkhan/Desktop/Cyclistic Trip Data/for Python/October 2021 Trip Data.csv\")\n",
    "oct_2021 = oct_2021.dropna(how='any',axis=0)\n",
    "oct_2021.isnull().sum()"
   ]
  },
  {
   "cell_type": "code",
   "execution_count": 12,
   "id": "e368e4a4-153f-437a-bd2f-7688b656c4ac",
   "metadata": {},
   "outputs": [],
   "source": [
    "oct_2021.to_excel('oct_2021.xlsx', index=False)"
   ]
  },
  {
   "cell_type": "code",
   "execution_count": 13,
   "id": "207ae593-7212-4a89-a55b-dd5e4807e882",
   "metadata": {},
   "outputs": [
    {
     "data": {
      "text/plain": [
       "ride_id               0\n",
       "rideable_type         0\n",
       "started_at            0\n",
       "ended_at              0\n",
       "start_station_name    0\n",
       "start_station_id      0\n",
       "end_station_name      0\n",
       "end_station_id        0\n",
       "start_lat             0\n",
       "start_lng             0\n",
       "end_lat               0\n",
       "end_lng               0\n",
       "member_casual         0\n",
       "dtype: int64"
      ]
     },
     "execution_count": 13,
     "metadata": {},
     "output_type": "execute_result"
    }
   ],
   "source": [
    "nov_2021 = pd.read_csv(\"/Users/aftabkhan/Desktop/Cyclistic Trip Data/for Python/November 2021 Trip Data.csv\")\n",
    "nov_2021 = nov_2021.dropna(how='any',axis=0)\n",
    "nov_2021.isnull().sum()"
   ]
  },
  {
   "cell_type": "code",
   "execution_count": 14,
   "id": "d1850341-b86e-4f57-a5c1-5bb735f0f363",
   "metadata": {},
   "outputs": [],
   "source": [
    "nov_2021.to_excel('nov_2021.xlsx', index=False)"
   ]
  },
  {
   "cell_type": "code",
   "execution_count": 15,
   "id": "eeaa194d-1b17-47b8-8567-9fa01d93b573",
   "metadata": {},
   "outputs": [
    {
     "data": {
      "text/plain": [
       "ride_id               0\n",
       "rideable_type         0\n",
       "started_at            0\n",
       "ended_at              0\n",
       "start_station_name    0\n",
       "start_station_id      0\n",
       "end_station_name      0\n",
       "end_station_id        0\n",
       "start_lat             0\n",
       "start_lng             0\n",
       "end_lat               0\n",
       "end_lng               0\n",
       "member_casual         0\n",
       "dtype: int64"
      ]
     },
     "execution_count": 15,
     "metadata": {},
     "output_type": "execute_result"
    }
   ],
   "source": [
    "dec_2021 = pd.read_csv(\"/Users/aftabkhan/Desktop/Cyclistic Trip Data/for Python/December 2021 Trip Data.csv\")\n",
    "dec_2021 = dec_2021.dropna(how='any',axis=0)\n",
    "dec_2021.isnull().sum()"
   ]
  },
  {
   "cell_type": "code",
   "execution_count": 16,
   "id": "78ed7c45-0c41-4f96-ba74-e2d4e2f44048",
   "metadata": {},
   "outputs": [],
   "source": [
    "dec_2021.to_excel('dec_2021.xlsx', index=False)"
   ]
  },
  {
   "cell_type": "code",
   "execution_count": 17,
   "id": "5dff6bbe-aa9a-4d42-8d13-1a8476c43e40",
   "metadata": {},
   "outputs": [
    {
     "data": {
      "text/plain": [
       "ride_id               0\n",
       "rideable_type         0\n",
       "started_at            0\n",
       "ended_at              0\n",
       "start_station_name    0\n",
       "start_station_id      0\n",
       "end_station_name      0\n",
       "end_station_id        0\n",
       "start_lat             0\n",
       "start_lng             0\n",
       "end_lat               0\n",
       "end_lng               0\n",
       "member_casual         0\n",
       "dtype: int64"
      ]
     },
     "execution_count": 17,
     "metadata": {},
     "output_type": "execute_result"
    }
   ],
   "source": [
    "jan_2022 = pd.read_csv(\"/Users/aftabkhan/Desktop/Cyclistic Trip Data/for Python/January 2022 Trip Data.csv\")\n",
    "jan_2022 = jan_2022.dropna(how='any',axis=0)\n",
    "jan_2022.isnull().sum()"
   ]
  },
  {
   "cell_type": "code",
   "execution_count": 18,
   "id": "98966f09-e708-4f9d-ad95-2c2abb8fd0e5",
   "metadata": {},
   "outputs": [],
   "source": [
    "jan_2022.to_excel('jan_2022.xlsx', index=False)"
   ]
  },
  {
   "cell_type": "code",
   "execution_count": 19,
   "id": "80528f12-4882-4dce-93b1-8031b122fbff",
   "metadata": {},
   "outputs": [
    {
     "data": {
      "text/plain": [
       "ride_id               0\n",
       "rideable_type         0\n",
       "started_at            0\n",
       "ended_at              0\n",
       "start_station_name    0\n",
       "start_station_id      0\n",
       "end_station_name      0\n",
       "end_station_id        0\n",
       "start_lat             0\n",
       "start_lng             0\n",
       "end_lat               0\n",
       "end_lng               0\n",
       "member_casual         0\n",
       "dtype: int64"
      ]
     },
     "execution_count": 19,
     "metadata": {},
     "output_type": "execute_result"
    }
   ],
   "source": [
    "feb_2022 = pd.read_csv(\"/Users/aftabkhan/Desktop/Cyclistic Trip Data/for Python/February 2022 Trip Data.csv\")\n",
    "feb_2022 = feb_2022.dropna(how='any',axis=0)\n",
    "feb_2022.isnull().sum()"
   ]
  },
  {
   "cell_type": "code",
   "execution_count": 20,
   "id": "bbb16f52-2f08-4366-8277-8332e66b19ff",
   "metadata": {},
   "outputs": [],
   "source": [
    "feb_2022.to_excel('feb_2022.xlsx', index=False)"
   ]
  },
  {
   "cell_type": "code",
   "execution_count": 21,
   "id": "acd6d7b9-b847-4b61-a5bc-c342129657c8",
   "metadata": {},
   "outputs": [
    {
     "data": {
      "text/plain": [
       "ride_id               0\n",
       "rideable_type         0\n",
       "started_at            0\n",
       "ended_at              0\n",
       "start_station_name    0\n",
       "start_station_id      0\n",
       "end_station_name      0\n",
       "end_station_id        0\n",
       "start_lat             0\n",
       "start_lng             0\n",
       "end_lat               0\n",
       "end_lng               0\n",
       "member_casual         0\n",
       "dtype: int64"
      ]
     },
     "execution_count": 21,
     "metadata": {},
     "output_type": "execute_result"
    }
   ],
   "source": [
    "mar_2022 = pd.read_csv(\"/Users/aftabkhan/Desktop/Cyclistic Trip Data/for Python/March 2022 Trip Data.csv\")\n",
    "mar_2022 = mar_2022.dropna(how='any',axis=0)\n",
    "mar_2022.isnull().sum()"
   ]
  },
  {
   "cell_type": "code",
   "execution_count": 22,
   "id": "07d014d1-bcac-40ff-b699-079ec8978bf9",
   "metadata": {},
   "outputs": [],
   "source": [
    "mar_2022.to_excel('mar_2022.xlsx', index=False)"
   ]
  },
  {
   "cell_type": "code",
   "execution_count": 23,
   "id": "d1a052f5-bfc0-4c51-8ca2-0ef9df28ea8d",
   "metadata": {},
   "outputs": [
    {
     "data": {
      "text/plain": [
       "ride_id               0\n",
       "rideable_type         0\n",
       "started_at            0\n",
       "ended_at              0\n",
       "start_station_name    0\n",
       "start_station_id      0\n",
       "end_station_name      0\n",
       "end_station_id        0\n",
       "start_lat             0\n",
       "start_lng             0\n",
       "end_lat               0\n",
       "end_lng               0\n",
       "member_casual         0\n",
       "dtype: int64"
      ]
     },
     "execution_count": 23,
     "metadata": {},
     "output_type": "execute_result"
    }
   ],
   "source": [
    "apr_2022 = pd.read_csv(\"/Users/aftabkhan/Desktop/Cyclistic Trip Data/for Python/April 2022 Trip Data.csv\")\n",
    "apr_2022 = apr_2022.dropna(how='any',axis=0)\n",
    "apr_2022.isnull().sum()"
   ]
  },
  {
   "cell_type": "code",
   "execution_count": 24,
   "id": "e0f93a01-c8d6-4ad1-b87a-d5e5ba004af9",
   "metadata": {},
   "outputs": [],
   "source": [
    "apr_2022.to_excel('apr_2022.xlsx', index=False)"
   ]
  },
  {
   "cell_type": "code",
   "execution_count": 25,
   "id": "f5788542-3c90-4925-940b-b78f0af7e582",
   "metadata": {},
   "outputs": [
    {
     "data": {
      "text/plain": [
       "ride_id               0\n",
       "rideable_type         0\n",
       "started_at            0\n",
       "ended_at              0\n",
       "start_station_name    0\n",
       "start_station_id      0\n",
       "end_station_name      0\n",
       "end_station_id        0\n",
       "start_lat             0\n",
       "start_lng             0\n",
       "end_lat               0\n",
       "end_lng               0\n",
       "member_casual         0\n",
       "dtype: int64"
      ]
     },
     "execution_count": 25,
     "metadata": {},
     "output_type": "execute_result"
    }
   ],
   "source": [
    "may_2022 = pd.read_csv(\"/Users/aftabkhan/Desktop/Cyclistic Trip Data/for Python/May 2022 Trip Data.csv\")\n",
    "may_2022 = may_2022.dropna(how='any',axis=0)\n",
    "may_2022.isnull().sum()"
   ]
  },
  {
   "cell_type": "code",
   "execution_count": 26,
   "id": "73f1bfca-9e9d-40f2-a3ce-fcdb8a70f347",
   "metadata": {},
   "outputs": [],
   "source": [
    "may_2022.to_excel('may_2022.xlsx', index=False)"
   ]
  },
  {
   "cell_type": "code",
   "execution_count": 27,
   "id": "59fcbded-87da-4c06-bc8e-343a8b5823c8",
   "metadata": {},
   "outputs": [
    {
     "data": {
      "text/plain": [
       "ride_id               0\n",
       "rideable_type         0\n",
       "started_at            0\n",
       "ended_at              0\n",
       "start_station_name    0\n",
       "start_station_id      0\n",
       "end_station_name      0\n",
       "end_station_id        0\n",
       "start_lat             0\n",
       "start_lng             0\n",
       "end_lat               0\n",
       "end_lng               0\n",
       "member_casual         0\n",
       "dtype: int64"
      ]
     },
     "execution_count": 27,
     "metadata": {},
     "output_type": "execute_result"
    }
   ],
   "source": [
    "jun_2022 = pd.read_csv(\"/Users/aftabkhan/Desktop/Cyclistic Trip Data/for Python/June 2022 Trip Data.csv\")\n",
    "jun_2022 = jun_2022.dropna(how='any',axis=0)\n",
    "jun_2022.isnull().sum()"
   ]
  },
  {
   "cell_type": "code",
   "execution_count": 28,
   "id": "fa6a871e-cf04-4dcd-9f5d-924145c487eb",
   "metadata": {},
   "outputs": [],
   "source": [
    "jun_2022.to_excel('jun_2022.xlsx', index=False)"
   ]
  }
 ],
 "metadata": {
  "kernelspec": {
   "display_name": "Python 3 (ipykernel)",
   "language": "python",
   "name": "python3"
  },
  "language_info": {
   "codemirror_mode": {
    "name": "ipython",
    "version": 3
   },
   "file_extension": ".py",
   "mimetype": "text/x-python",
   "name": "python",
   "nbconvert_exporter": "python",
   "pygments_lexer": "ipython3",
   "version": "3.9.7"
  }
 },
 "nbformat": 4,
 "nbformat_minor": 5
}
